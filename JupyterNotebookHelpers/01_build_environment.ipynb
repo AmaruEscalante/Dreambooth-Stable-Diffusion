{
 "cells": [
  {
   "cell_type": "code",
   "execution_count": null,
   "metadata": {
    "collapsed": true
   },
   "outputs": [],
   "source": [
    "import sys\n",
    "from IPython.display import clear_output\n",
    "from IPython.utils import io\n",
    "\n",
    "print(\"Installing widgets library...\")\n",
    "with io.capture_output() as captured:\n",
    "    !{sys.executable} -m pip install ipywidgets\n",
    "clear_output()\n",
    "\n",
    "from ipywidgets import widgets, Layout\n",
    "\n",
    "class BuildEnvironment:\n",
    "    show_detailed_output = False\n",
    "\n",
    "    def __init__(\n",
    "        self,\n",
    "        style = {'description_width': '150px'},\n",
    "        layout = Layout(width=\"400px\"),\n",
    "    ):\n",
    "        self.style = style\n",
    "        self.layout = layout\n",
    "\n",
    "        self.installer_progress_bar_widget = widgets.IntProgress(\n",
    "            value=0,\n",
    "            min=0,\n",
    "            max=0,\n",
    "            description='Installing: ',\n",
    "            bar_style='info',\n",
    "            orientation='horizontal'\n",
    "        )\n",
    "\n",
    "        self.output = widgets.Output()\n",
    "\n",
    "    def build_env(self, install_commands, show_detailed_output):\n",
    "        clear_output()\n",
    "        self.installer_progress_bar_widget.max = len(install_commands)\n",
    "        display(self.installer_progress_bar_widget, self.output)\n",
    "        try:\n",
    "            for i, install_command in enumerate(install_commands):\n",
    "                if show_detailed_output:\n",
    "                    !{sys.executable} -m {install_command}\n",
    "                else:\n",
    "                    with io.capture_output() as captured:\n",
    "                        !{sys.executable} -m {install_command}\n",
    "                    print(f\"☑ '{install_command.replace('pip install ', '')}' installation complete.\")\n",
    "\n",
    "                # update the progress bar\n",
    "                self.installer_progress_bar_widget.value = i + 1\n",
    "\n",
    "            self.installer_progress_bar_widget.close()\n",
    "            print(\"✅ All Dependencies successfully installed.  Proceed to model download.\")\n",
    "\n",
    "        except:\n",
    "            print(\"❌ Error installing dependencies\")"
   ]
  }
 ],
 "metadata": {
  "kernelspec": {
   "display_name": "Python 3 (ipykernel)",
   "language": "python",
   "name": "python3"
  },
  "language_info": {
   "codemirror_mode": {
    "name": "ipython",
    "version": 3
   },
   "file_extension": ".py",
   "mimetype": "text/x-python",
   "name": "python",
   "nbconvert_exporter": "python",
   "pygments_lexer": "ipython3",
   "version": "3.10.7"
  }
 },
 "nbformat": 4,
 "nbformat_minor": 1
}
