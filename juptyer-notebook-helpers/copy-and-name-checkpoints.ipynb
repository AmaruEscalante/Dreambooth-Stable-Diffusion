{
 "cells": [
  {
   "cell_type": "code",
   "execution_count": null,
   "metadata": {
    "collapsed": true
   },
   "outputs": [],
   "source": [
    "from IPython.display import clear_output\n",
    "import os\n",
    "import re\n",
    "import shutil\n",
    "import glob\n",
    "import joe_penna_dreambooth_config\n",
    "\n",
    "class copy_and_name_checkpoints:\n",
    "    active_config_path = \"./joepenna-dreambooth-configs/active-config.json\"\n",
    "    trained_models_path = \"./trained_models\"\n",
    "\n",
    "    def __init__(self):\n",
    "        pass\n",
    "\n",
    "    def execute(self):\n",
    "        clear_output()\n",
    "        config = joe_penna_dreambooth_config.parse_config_file(self.active_config_path)\n",
    "\n",
    "        if config is not None:\n",
    "\n",
    "            if not os.path.exists(self.trained_models_path):\n",
    "                os.mkdir(self.trained_models_path)\n",
    "\n",
    "            # copy the config file to the model directory as well\n",
    "            shutil.copy(self.active_config_path, f\"{self.trained_models_path}/{config.config_file_name}\")\n",
    "\n",
    "            latest_training_directory = glob.glob(\"./logs/*\")[-1]\n",
    "\n",
    "            # Gather, name, and move the checkpoint files.\n",
    "            checkpoint_paths = []\n",
    "            steps = []\n",
    "            if config.save_every_x_steps == 0:\n",
    "                checkpoint_paths.append(f\"{latest_training_directory}/checkpoints/last.ckpt\")\n",
    "                steps.append(str(config.max_training_steps))\n",
    "            else:\n",
    "                checkpoints_directory = f\"{latest_training_directory}/checkpoints/trainstep_checkpoints\"\n",
    "                file_paths = glob.glob(f\"{checkpoints_directory}/*\")\n",
    "\n",
    "                for i, original_file_name in enumerate(file_paths):\n",
    "                    # Remove the \"epoch=000000-step=0000\" text\n",
    "                    checkpoint_steps = re.sub(checkpoints_directory + \"/epoch=\\d{6}-step=0*\", \"\", original_file_name)\n",
    "\n",
    "                    # Remove the .ckpt\n",
    "                    checkpoint_steps = checkpoint_steps.replace(\".ckpt\", \"\")\n",
    "\n",
    "                    checkpoint_paths.append(f\"{original_file_name}\")\n",
    "                    steps.append(checkpoint_steps)\n",
    "\n",
    "            for i, training_steps in enumerate(steps):\n",
    "                # Setup the filenames\n",
    "                original_file_name = checkpoint_paths[i]\n",
    "                file_name = config.createCheckpointFileName(training_steps)\n",
    "\n",
    "                # Move the checkpoint\n",
    "                shutil.move(original_file_name, os.path.join(self.trained_models_path, file_name))\n",
    "\n",
    "            print(\"✅ Download your trained model(s) from the 'trained_models' folder and use in your favorite Stable Diffusion repo!\")\n",
    "\n",
    "copy_and_name_checkpoints = copy_and_name_checkpoints()"
   ]
  }
 ],
 "metadata": {
  "kernelspec": {
   "display_name": "Python 3 (ipykernel)",
   "language": "python",
   "name": "python3"
  },
  "language_info": {
   "codemirror_mode": {
    "name": "ipython",
    "version": 3
   },
   "file_extension": ".py",
   "mimetype": "text/x-python",
   "name": "python",
   "nbconvert_exporter": "python",
   "pygments_lexer": "ipython3",
   "version": "3.10.7"
  }
 },
 "nbformat": 4,
 "nbformat_minor": 1
}
