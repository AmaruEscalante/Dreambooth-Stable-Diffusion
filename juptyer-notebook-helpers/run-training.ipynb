{
 "cells": [
  {
   "cell_type": "code",
   "execution_count": null,
   "outputs": [],
   "source": [
    "from IPython.display import clear_output\n",
    "import os\n",
    "import shutil\n",
    "import joe_penna_dreambooth_config\n",
    "\n",
    "clear_output()\n",
    "\n",
    "class run_training:\n",
    "    active_config_path = \"./joepenna-dreambooth-configs/active-config.json\"\n",
    "\n",
    "    def __init__(self):\n",
    "        pass\n",
    "\n",
    "    def execute(self):\n",
    "        config = joe_penna_dreambooth_config.parse_config_file(self.active_config_path)\n",
    "        if config is not None:\n",
    "            print(\"✅ Loaded the config file, proceeding to training\")\n",
    "            print()\n",
    "            print(\"active-config.json\")\n",
    "            print(\"------------------\")\n",
    "            print(config.toJSON())\n",
    "\n",
    "            reg_data_root = f\"/workspace/Dreambooth-Stable-Diffusion/regularization_images/{config.dataset}\"\n",
    "\n",
    "            leftover_training_files = [\"./training_images/.ipynb_checkpoints\", \"./regularization_images/.ipynb_checkpoints\"]\n",
    "            for i, ipynb_checkpoint_folder in enumerate(leftover_training_files):\n",
    "                if os.path.exists(ipynb_checkpoint_folder):\n",
    "                    shutil.rmtree(ipynb_checkpoint_folder)\n",
    "\n",
    "            !python \"main.py\" \\\n",
    "                --base \"configs/stable-diffusion/v1-finetune_unfrozen.yaml\" \\\n",
    "                -t \\\n",
    "                --actual_resume \"{config.model_filename}\" \\\n",
    "                --reg_data_root \"{reg_data_root}\" \\\n",
    "                -n \"{config.project_name}\" \\\n",
    "                --gpus 0, \\\n",
    "                --data_root \"/workspace/Dreambooth-Stable-Diffusion/training_images\" \\\n",
    "                --max_training_steps {config.max_training_steps} \\\n",
    "                --class_word \"{config.class_word}\" \\\n",
    "                --token \"{config.token}\" \\\n",
    "                --no-test \\\n",
    "                --flip_p {config.flip_percent} \\\n",
    "                --learning_rate {config.learning_rate} \\\n",
    "                --save_every_x_steps {config.save_every_x_steps}\n",
    "\n",
    "run_training = run_training()"
   ],
   "metadata": {
    "collapsed": false
   }
  }
 ],
 "metadata": {
  "kernelspec": {
   "display_name": "Python 3 (ipykernel)",
   "language": "python",
   "name": "python3"
  },
  "language_info": {
   "codemirror_mode": {
    "name": "ipython",
    "version": 3
   },
   "file_extension": ".py",
   "mimetype": "text/x-python",
   "name": "python",
   "nbconvert_exporter": "python",
   "pygments_lexer": "ipython3",
   "version": "3.10.7"
  }
 },
 "nbformat": 4,
 "nbformat_minor": 1
}
